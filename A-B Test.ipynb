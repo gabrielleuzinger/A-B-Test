{
 "cells": [
  {
   "cell_type": "markdown",
   "metadata": {},
   "source": [
    "# A/B Test"
   ]
  },
  {
   "cell_type": "markdown",
   "metadata": {},
   "source": [
    "**This notebook is used to simulate an A/B Test** based on an e-commerce website dataset provided by Udacity. The dataset is available [here](https://www.kaggle.com/zhangluyuan/ab-testing?select=ab_data.csv).\n",
    "\n",
    "A/B test is \"the simplest type of controlled experiment that compares two variants: A and B\" [(KOHAVI; TANG; XU, 2020)](https://www.amazon.com.br/Trustworthy-Online-Controlled-Experiments-Practical/dp/1108724264). **The goal of running an A/B test is to gather data to drive decision making**, rather than relying on intuition. \n",
    "\n",
    "A variant is an user experience being tested. In A/B tests, variants are usually called Control (the old version) and Treatment (the new version). More than one Treatment can be tested at once depending on the business problem you are trying to solve. These are called multivariant tests. Besides, it is also possible to test more than one variable at once, using Multivarible Tests (MVT) [(KOHAVI et al., 2009)](http://www.robotics.stanford.edu/~ronnyk/2009controlledExperimentsOnTheWebSurvey.pdf). In online A/B tests, \"users are randomly split between variants in a persistent manner (a user receives the same variant in multiple visits)\" (KOHAVI; TANG; XU, 2020).\n",
    "\n",
    "The first step of an A/B Test is to decide what to test. This is done by figuring where there is most opportunity based on your company top-level goal (e.g., increase revenue from users who visit the company's homepage). This can be done by talking to experts, analysing your product and your customers or checking out the competition. Then, we need to translate the opportunity identified into a testable hypothesis (e.g., making the browse category menu more prominent will make the site easier to navigate and increase sales). Next, we select a target metric (e.g, convertion rate) and define the practical significance level (also called minimum detectable effect), i.e., the minimum change to the baseline rate that is useful to the business [(GEOGHEGAN, 2020)](https://robbiegeoghegan.medium.com/implementing-a-b-tests-in-python-514e9eb5b3a1).\n",
    "\n",
    "We also need to examine whether any difference between the two variants is statistically significant. First, we can determine the confidence level that we will use in the A/B Test. It is usual to adopt a confidence level of 95%. \"A 95% confidence interval is the range that covers the true difference 95% of the time\" (KOHAVI; TANG; XU, 2020). Another common practice is to compute the p-value. \"Given estimates from the Control and Treatment samples, we compute the p-value for the difference, which is the probability of observing such difference\" (KOHAVI; TANG; XU, 2020). A p-value of 0.05 is commonly used in A/B Tests. Finally, it is necessary to define the statistical power, i.e., \"the probability of detecting a meaningful difference between the variants when there really is one\" (KOHAVI; TANG; XU, 2020). A common practice is to have a statistical power between 80 and 90%.\n",
    "\n",
    "The next step, is to define the randomization unit. Kohavi, Tang and Xu (2020) recommend to use the users as the randomization unit for A/B Tests with online audiences. Then, we need to calculate the sample size of the experiment. This is done considering the baseline rate (an estimate of the metric being analyzed before making any changes), practical significance level, confidence level, and sensitivity (ability to detect statistically significant differences) (GEOGHEGAN, 2020). \"The larger the sample size, the more precise our estimates, i.e. the smaller our confidence intervals, the higher the chance to detect a difference in the two groups, if present\" [(FILLINICH, 2020)](https://medium.com/@RenatoFillinich/ab-testing-with-python-e5964dd66143). \n",
    "\n",
    "Finally, we can define how long it will take to run the A/B Test. For example, if our sample size is 10000 and the average traffic in our website is 1100 users per day, we would need to run the experiment for 10 days.\n",
    "\n",
    "----------\n",
    "We do not have an specific target with our dataset. So, we will create scenario for our notebook based on (FILLINICH, 2020):\n",
    "\n",
    "    Let’s imagine we work on the product team at a medium-sized online e-commerce business. The UX designer worked really hard on a new version of the product page, and believe that it will lead to a higher conversion rate. The product manager told us that the current conversion rate is about 13% on average throughout the year, and that the team would be happy with an increase of 1%, meaning that the new design will be considered a success if it raises the conversion rate to 14%.\n",
    "    \n",
    "So, we decide to do an A/B Test. Our hypothesis is that the new version of the product page will improve the conversion rate. **We will adopt a confidence level of 95%**  and **80% power**. We use the website users as the radomization unit. According to what the PM told us, the **baseline conversion rate is 13%** and the **practical significance level is 1%**.\n",
    "\n",
    "The notebook is divided as follows:\n",
    "    \n",
    "1. Sample size calculation\n",
    "2. Data exploration\n",
    "3. Interpreting the results\n",
    "4. Conclusion\n",
    "\n",
    "-------"
   ]
  },
  {
   "cell_type": "markdown",
   "metadata": {},
   "source": [
    "## 1. Sample size calculation"
   ]
  },
  {
   "cell_type": "code",
   "execution_count": 1,
   "metadata": {},
   "outputs": [
    {
     "data": {
      "text/plain": [
       "18326"
      ]
     },
     "execution_count": 1,
     "metadata": {},
     "output_type": "execute_result"
    }
   ],
   "source": [
    "import statsmodels.stats.api as sms\n",
    "import math\n",
    "\n",
    "baseline_rate = .13\n",
    "practical_sig_lvl = 0.01\n",
    "power = 0.8\n",
    "confidence_lvl=0.95\n",
    "\n",
    "effect_size = sms.proportion_effectsize(baseline_rate, baseline_rate+practical_sig_lvl) \n",
    "required_n = sms.NormalIndPower().solve_power(effect_size,power=power,alpha=(1-confidence_lvl),ratio=1)    \n",
    "required_n = math.ceil(required_n)\n",
    "required_n"
   ]
  },
  {
   "cell_type": "markdown",
   "metadata": {},
   "source": [
    "Therefore, **our sample size is 18,326 users per variant**. Unfortunately, we don't know the average traffic to our site. So, we cannot calculate how long our experiment should run. But let's import the dataset and have a look at it."
   ]
  },
  {
   "cell_type": "markdown",
   "metadata": {},
   "source": [
    "## 2. Data exploration"
   ]
  },
  {
   "cell_type": "markdown",
   "metadata": {},
   "source": [
    "Thus, we see that A/B Test lasted 22 days, starting at 02/01 and ending at 24/01. It only last for half the day on 02/01 and 24/01. **The average traffic on the website was 13,388 users per day. Therefore, we would only need to run our experiment for 3 days**. Now, we have two options. Choose three consectuive days in our dataset and consider that the experiment only lasted that long or change our parameters, for example increase the confidence level to 99%. We decided to choose three days and continue to work with the scenario we created. So, let's select the first three days in the data set and have a look at them. We will ignore the first day (02/01), because the experiment only lasted for half a day on this day."
   ]
  },
  {
   "cell_type": "markdown",
   "metadata": {},
   "source": [
    "### Getting the data"
   ]
  },
  {
   "cell_type": "code",
   "execution_count": 2,
   "metadata": {},
   "outputs": [],
   "source": [
    "import pandas as pd\n",
    "import numpy as np\n",
    "import scipy.stats as stats"
   ]
  },
  {
   "cell_type": "code",
   "execution_count": 3,
   "metadata": {},
   "outputs": [],
   "source": [
    "data_ab = pd.read_csv(r'/Users/leuzinger/Dropbox/Data Science/Awari/Teste A-B/Data set/udacity/ab_data.csv')"
   ]
  },
  {
   "cell_type": "code",
   "execution_count": 4,
   "metadata": {},
   "outputs": [
    {
     "name": "stdout",
     "output_type": "stream",
     "text": [
      "<class 'pandas.core.frame.DataFrame'>\n",
      "RangeIndex: 294478 entries, 0 to 294477\n",
      "Data columns (total 5 columns):\n",
      " #   Column        Non-Null Count   Dtype \n",
      "---  ------        --------------   ----- \n",
      " 0   user_id       294478 non-null  int64 \n",
      " 1   timestamp     294478 non-null  object\n",
      " 2   group         294478 non-null  object\n",
      " 3   landing_page  294478 non-null  object\n",
      " 4   converted     294478 non-null  int64 \n",
      "dtypes: int64(2), object(3)\n",
      "memory usage: 11.2+ MB\n"
     ]
    }
   ],
   "source": [
    "data_ab.info()"
   ]
  },
  {
   "cell_type": "code",
   "execution_count": 5,
   "metadata": {},
   "outputs": [
    {
     "data": {
      "text/html": [
       "<div>\n",
       "<style scoped>\n",
       "    .dataframe tbody tr th:only-of-type {\n",
       "        vertical-align: middle;\n",
       "    }\n",
       "\n",
       "    .dataframe tbody tr th {\n",
       "        vertical-align: top;\n",
       "    }\n",
       "\n",
       "    .dataframe thead th {\n",
       "        text-align: right;\n",
       "    }\n",
       "</style>\n",
       "<table border=\"1\" class=\"dataframe\">\n",
       "  <thead>\n",
       "    <tr style=\"text-align: right;\">\n",
       "      <th></th>\n",
       "      <th>user_id</th>\n",
       "      <th>timestamp</th>\n",
       "      <th>group</th>\n",
       "      <th>landing_page</th>\n",
       "      <th>converted</th>\n",
       "    </tr>\n",
       "  </thead>\n",
       "  <tbody>\n",
       "    <tr>\n",
       "      <th>0</th>\n",
       "      <td>851104</td>\n",
       "      <td>2017-01-21 22:11:48.556739</td>\n",
       "      <td>control</td>\n",
       "      <td>old_page</td>\n",
       "      <td>0</td>\n",
       "    </tr>\n",
       "    <tr>\n",
       "      <th>1</th>\n",
       "      <td>804228</td>\n",
       "      <td>2017-01-12 08:01:45.159739</td>\n",
       "      <td>control</td>\n",
       "      <td>old_page</td>\n",
       "      <td>0</td>\n",
       "    </tr>\n",
       "    <tr>\n",
       "      <th>2</th>\n",
       "      <td>661590</td>\n",
       "      <td>2017-01-11 16:55:06.154213</td>\n",
       "      <td>treatment</td>\n",
       "      <td>new_page</td>\n",
       "      <td>0</td>\n",
       "    </tr>\n",
       "    <tr>\n",
       "      <th>3</th>\n",
       "      <td>853541</td>\n",
       "      <td>2017-01-08 18:28:03.143765</td>\n",
       "      <td>treatment</td>\n",
       "      <td>new_page</td>\n",
       "      <td>0</td>\n",
       "    </tr>\n",
       "    <tr>\n",
       "      <th>4</th>\n",
       "      <td>864975</td>\n",
       "      <td>2017-01-21 01:52:26.210827</td>\n",
       "      <td>control</td>\n",
       "      <td>old_page</td>\n",
       "      <td>1</td>\n",
       "    </tr>\n",
       "  </tbody>\n",
       "</table>\n",
       "</div>"
      ],
      "text/plain": [
       "   user_id                   timestamp      group landing_page  converted\n",
       "0   851104  2017-01-21 22:11:48.556739    control     old_page          0\n",
       "1   804228  2017-01-12 08:01:45.159739    control     old_page          0\n",
       "2   661590  2017-01-11 16:55:06.154213  treatment     new_page          0\n",
       "3   853541  2017-01-08 18:28:03.143765  treatment     new_page          0\n",
       "4   864975  2017-01-21 01:52:26.210827    control     old_page          1"
      ]
     },
     "execution_count": 5,
     "metadata": {},
     "output_type": "execute_result"
    }
   ],
   "source": [
    "data_ab.head()"
   ]
  },
  {
   "cell_type": "code",
   "execution_count": 6,
   "metadata": {},
   "outputs": [
    {
     "data": {
      "text/plain": [
       "2      5783\n",
       "3     13394\n",
       "4     13284\n",
       "5     13124\n",
       "6     13528\n",
       "7     13381\n",
       "8     13564\n",
       "9     13439\n",
       "10    13523\n",
       "11    13553\n",
       "12    13322\n",
       "13    13238\n",
       "14    13329\n",
       "15    13449\n",
       "16    13327\n",
       "17    13322\n",
       "18    13285\n",
       "19    13293\n",
       "20    13393\n",
       "21    13475\n",
       "22    13423\n",
       "23    13511\n",
       "24     7538\n",
       "Name: timestamp, dtype: int64"
      ]
     },
     "execution_count": 6,
     "metadata": {},
     "output_type": "execute_result"
    }
   ],
   "source": [
    "pd.to_datetime(data_ab['timestamp']).value_counts()\n",
    "pd.to_datetime(data_ab['timestamp']).dt.day.value_counts().sort_index()"
   ]
  },
  {
   "cell_type": "code",
   "execution_count": 7,
   "metadata": {},
   "outputs": [
    {
     "data": {
      "text/plain": [
       "13388.42857142857"
      ]
     },
     "execution_count": 7,
     "metadata": {},
     "output_type": "execute_result"
    }
   ],
   "source": [
    "data_ab['day'] = pd.to_datetime(data_ab['timestamp']).dt.day\n",
    "data_ab['day'].loc[(data_ab[\"day\"] > 2) & (data_ab[\"day\"] <24)].value_counts().mean()"
   ]
  },
  {
   "cell_type": "markdown",
   "metadata": {},
   "source": [
    "----"
   ]
  },
  {
   "cell_type": "markdown",
   "metadata": {},
   "source": [
    "### Data Preparation"
   ]
  },
  {
   "cell_type": "markdown",
   "metadata": {},
   "source": [
    "First, we verify that there is some users in both groups that saw the webpage they were not supposed to see. **All users in the control group were supposed to see the old webpage and all users in the treatment group should have seen the new webpage**. Therefore, we will remove the users who saw the wrong webpage from our dataset. \n",
    "\n",
    "Then, we check for repeated users but there is none. Thus, our data set is ready to be used."
   ]
  },
  {
   "cell_type": "code",
   "execution_count": 8,
   "metadata": {},
   "outputs": [
    {
     "name": "stdout",
     "output_type": "stream",
     "text": [
      "<class 'pandas.core.frame.DataFrame'>\n",
      "Int64Index: 39802 entries, 8 to 294473\n",
      "Data columns (total 6 columns):\n",
      " #   Column        Non-Null Count  Dtype \n",
      "---  ------        --------------  ----- \n",
      " 0   user_id       39802 non-null  int64 \n",
      " 1   timestamp     39802 non-null  object\n",
      " 2   group         39802 non-null  object\n",
      " 3   landing_page  39802 non-null  object\n",
      " 4   converted     39802 non-null  int64 \n",
      " 5   day           39802 non-null  int64 \n",
      "dtypes: int64(3), object(3)\n",
      "memory usage: 2.1+ MB\n"
     ]
    }
   ],
   "source": [
    "data_ab3 = data_ab.loc[(data_ab[\"day\"] > 2) & (data_ab[\"day\"] <6)]\n",
    "data_ab3.info()"
   ]
  },
  {
   "cell_type": "code",
   "execution_count": 9,
   "metadata": {
    "scrolled": true
   },
   "outputs": [
    {
     "data": {
      "text/plain": [
       "new_page    19946\n",
       "old_page    19856\n",
       "Name: landing_page, dtype: int64"
      ]
     },
     "execution_count": 9,
     "metadata": {},
     "output_type": "execute_result"
    }
   ],
   "source": [
    "data_ab3['landing_page'].value_counts()"
   ]
  },
  {
   "cell_type": "code",
   "execution_count": 10,
   "metadata": {},
   "outputs": [
    {
     "data": {
      "text/plain": [
       "treatment    19925\n",
       "control      19877\n",
       "Name: group, dtype: int64"
      ]
     },
     "execution_count": 10,
     "metadata": {},
     "output_type": "execute_result"
    }
   ],
   "source": [
    "data_ab3['group'].value_counts()"
   ]
  },
  {
   "cell_type": "code",
   "execution_count": 11,
   "metadata": {},
   "outputs": [
    {
     "data": {
      "text/html": [
       "<div>\n",
       "<style scoped>\n",
       "    .dataframe tbody tr th:only-of-type {\n",
       "        vertical-align: middle;\n",
       "    }\n",
       "\n",
       "    .dataframe tbody tr th {\n",
       "        vertical-align: top;\n",
       "    }\n",
       "\n",
       "    .dataframe thead th {\n",
       "        text-align: right;\n",
       "    }\n",
       "</style>\n",
       "<table border=\"1\" class=\"dataframe\">\n",
       "  <thead>\n",
       "    <tr style=\"text-align: right;\">\n",
       "      <th>landing_page</th>\n",
       "      <th>new_page</th>\n",
       "      <th>old_page</th>\n",
       "    </tr>\n",
       "    <tr>\n",
       "      <th>group</th>\n",
       "      <th></th>\n",
       "      <th></th>\n",
       "    </tr>\n",
       "  </thead>\n",
       "  <tbody>\n",
       "    <tr>\n",
       "      <th>control</th>\n",
       "      <td>282</td>\n",
       "      <td>19595</td>\n",
       "    </tr>\n",
       "    <tr>\n",
       "      <th>treatment</th>\n",
       "      <td>19664</td>\n",
       "      <td>261</td>\n",
       "    </tr>\n",
       "  </tbody>\n",
       "</table>\n",
       "</div>"
      ],
      "text/plain": [
       "landing_page  new_page  old_page\n",
       "group                           \n",
       "control            282     19595\n",
       "treatment        19664       261"
      ]
     },
     "execution_count": 11,
     "metadata": {},
     "output_type": "execute_result"
    }
   ],
   "source": [
    "pd.crosstab(data_ab3['group'], data_ab3['landing_page'])"
   ]
  },
  {
   "cell_type": "code",
   "execution_count": 12,
   "metadata": {},
   "outputs": [
    {
     "data": {
      "text/html": [
       "<div>\n",
       "<style scoped>\n",
       "    .dataframe tbody tr th:only-of-type {\n",
       "        vertical-align: middle;\n",
       "    }\n",
       "\n",
       "    .dataframe tbody tr th {\n",
       "        vertical-align: top;\n",
       "    }\n",
       "\n",
       "    .dataframe thead th {\n",
       "        text-align: right;\n",
       "    }\n",
       "</style>\n",
       "<table border=\"1\" class=\"dataframe\">\n",
       "  <thead>\n",
       "    <tr style=\"text-align: right;\">\n",
       "      <th>landing_page</th>\n",
       "      <th>new_page</th>\n",
       "      <th>old_page</th>\n",
       "    </tr>\n",
       "    <tr>\n",
       "      <th>group</th>\n",
       "      <th></th>\n",
       "      <th></th>\n",
       "    </tr>\n",
       "  </thead>\n",
       "  <tbody>\n",
       "    <tr>\n",
       "      <th>control</th>\n",
       "      <td>0</td>\n",
       "      <td>19595</td>\n",
       "    </tr>\n",
       "    <tr>\n",
       "      <th>treatment</th>\n",
       "      <td>19664</td>\n",
       "      <td>0</td>\n",
       "    </tr>\n",
       "  </tbody>\n",
       "</table>\n",
       "</div>"
      ],
      "text/plain": [
       "landing_page  new_page  old_page\n",
       "group                           \n",
       "control              0     19595\n",
       "treatment        19664         0"
      ]
     },
     "execution_count": 12,
     "metadata": {},
     "output_type": "execute_result"
    }
   ],
   "source": [
    "data_ab3 = data_ab3.drop(data_ab3.loc[(data_ab3[\"group\"] == 'control') & (data_ab[\"landing_page\"] == 'new_page')].index)\n",
    "data_ab3 = data_ab3.drop(data_ab3.loc[(data_ab3[\"group\"] == 'treatment') & (data_ab[\"landing_page\"] == 'old_page')].index)\n",
    "pd.crosstab(data_ab3['group'], data_ab3['landing_page'])"
   ]
  },
  {
   "cell_type": "code",
   "execution_count": 13,
   "metadata": {},
   "outputs": [
    {
     "data": {
      "text/plain": [
       "0"
      ]
     },
     "execution_count": 13,
     "metadata": {},
     "output_type": "execute_result"
    }
   ],
   "source": [
    "data_ab3['user_id'].duplicated().sum()"
   ]
  },
  {
   "cell_type": "markdown",
   "metadata": {},
   "source": [
    "-----"
   ]
  },
  {
   "cell_type": "markdown",
   "metadata": {},
   "source": [
    "## 3. Interpreting the results "
   ]
  },
  {
   "cell_type": "markdown",
   "metadata": {},
   "source": [
    "First, we calculate the conversion rate, standard deviation and standard error for each variant. **We find that the conversion rate of the old page is slightly better than the new one, but the standard error for the old page is higher than the new one**.\n",
    "\n",
    "Then, we use the chi-square to test our hypothesis:\n",
    "\n",
    "* H0: “the conversion rate is the same for the two versions”\n",
    "* H1: “the new version of the product page improves the conversion rate”\n",
    "\n",
    "We chose the chi-square test because we are comparing two categorical variables from the same population [(UCLA, 2021)](https://stats.idre.ucla.edu/stata/whatstat/what-statistical-analysis-should-i-usestatistical-analyses-using-stata/).\n",
    "\n",
    "**Given that the p-value is greater than 0.05, we cannot reject the Null hypothesis (H0) and have to assume that both versions have the same convertion rate**.\n",
    "\n",
    "Additionally, if we look at the confidence interval for the Treatment group we notice that it does not includes our target value and not even our baseline conversion rate. This is further proof that our new design is not likely to be an improvement on our old design."
   ]
  },
  {
   "cell_type": "code",
   "execution_count": 14,
   "metadata": {},
   "outputs": [
    {
     "data": {
      "text/html": [
       "<style  type=\"text/css\" >\n",
       "</style><table id=\"T_eda05_\" ><thead>    <tr>        <th class=\"blank level0\" ></th>        <th class=\"col_heading level0 col0\" >conversion_rate</th>        <th class=\"col_heading level0 col1\" >std_deviation</th>        <th class=\"col_heading level0 col2\" >std_error</th>    </tr>    <tr>        <th class=\"index_name level0\" >landing_page</th>        <th class=\"blank\" ></th>        <th class=\"blank\" ></th>        <th class=\"blank\" ></th>    </tr></thead><tbody>\n",
       "                <tr>\n",
       "                        <th id=\"T_eda05_level0_row0\" class=\"row_heading level0 row0\" >new_page</th>\n",
       "                        <td id=\"T_eda05_row0_col0\" class=\"data row0 col0\" >0.11513</td>\n",
       "                        <td id=\"T_eda05_row0_col1\" class=\"data row0 col1\" >0.31918</td>\n",
       "                        <td id=\"T_eda05_row0_col2\" class=\"data row0 col2\" >0.00228</td>\n",
       "            </tr>\n",
       "            <tr>\n",
       "                        <th id=\"T_eda05_level0_row1\" class=\"row_heading level0 row1\" >old_page</th>\n",
       "                        <td id=\"T_eda05_row1_col0\" class=\"data row1 col0\" >0.11962</td>\n",
       "                        <td id=\"T_eda05_row1_col1\" class=\"data row1 col1\" >0.32452</td>\n",
       "                        <td id=\"T_eda05_row1_col2\" class=\"data row1 col2\" >0.00232</td>\n",
       "            </tr>\n",
       "    </tbody></table>"
      ],
      "text/plain": [
       "<pandas.io.formats.style.Styler at 0x7fa184c69b20>"
      ]
     },
     "execution_count": 14,
     "metadata": {},
     "output_type": "execute_result"
    }
   ],
   "source": [
    "conversion_rates = data_ab3.groupby('landing_page')['converted']\n",
    "\n",
    "std_p = lambda x: np.std(x, ddof=0)              \n",
    "se_p = lambda x: stats.sem(x, ddof=0)            \n",
    "\n",
    "conversion_rates = conversion_rates.agg([np.mean, std_p, se_p])\n",
    "conversion_rates.columns = ['conversion_rate', 'std_deviation', 'std_error']\n",
    "\n",
    "\n",
    "conversion_rates.style.format('{:.5f}')"
   ]
  },
  {
   "cell_type": "code",
   "execution_count": 15,
   "metadata": {},
   "outputs": [
    {
     "name": "stdout",
     "output_type": "stream",
     "text": [
      "p-value: 0.16715\n",
      "Confidence interval 95% for control group: (0.11508, 0.12417)\n",
      "Confidence interval 95% for treatment group: (0.11067, 0.11960)\n"
     ]
    }
   ],
   "source": [
    "import scipy\n",
    "from scipy import stats\n",
    "\n",
    "#calculate p-value\n",
    "con_results = data_ab3[data_ab3['group'] == 'control']['converted']\n",
    "treat_results = data_ab3[data_ab3['group'] == 'treatment']['converted']\n",
    "T = np.array([[con_results.sum(), con_results.size-con_results.sum()], \n",
    "              [treat_results.sum(), treat_results.size-treat_results.sum()]])\n",
    "print(f\"p-value: {scipy.stats.chi2_contingency(T,correction=False)[1]:.5f}\")\n",
    "\n",
    "#create 95% confidence interval for population mean weight\n",
    "(lower_con, upper_con) = stats.norm.interval(alpha=confidence_lvl, loc=np.mean(con_results), scale=stats.sem(con_results))\n",
    "(lower_treat, upper_treat) = stats.norm.interval(alpha=confidence_lvl, loc=np.mean(treat_results), scale=stats.sem(treat_results))\n",
    "print(f\"Confidence interval 95% for control group: ({lower_con:.5f}, {upper_con:.5f})\")\n",
    "print(f\"Confidence interval 95% for treatment group: ({lower_treat:.5f}, {upper_treat:.5f})\")"
   ]
  },
  {
   "cell_type": "markdown",
   "metadata": {},
   "source": [
    "## 4. Conclusion"
   ]
  },
  {
   "cell_type": "markdown",
   "metadata": {},
   "source": [
    "In this notebook, we simulate an A/B test. In our scenario, the UX designer at a midsize online e-commerce company designed a new version of the product page believing that this would lead to a higher conversion rate. **However, after analyzing the data from the A/B Test, we found that the new version did not perform better than the old one**. On the contrary, it appears to perform a little worse, although we cannot conclude that. "
   ]
  }
 ],
 "metadata": {
  "kernelspec": {
   "display_name": "Python 3",
   "language": "python",
   "name": "python3"
  },
  "language_info": {
   "codemirror_mode": {
    "name": "ipython",
    "version": 3
   },
   "file_extension": ".py",
   "mimetype": "text/x-python",
   "name": "python",
   "nbconvert_exporter": "python",
   "pygments_lexer": "ipython3",
   "version": "3.8.5"
  }
 },
 "nbformat": 4,
 "nbformat_minor": 4
}
